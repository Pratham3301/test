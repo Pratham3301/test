{
 "cells": [
  {
   "cell_type": "code",
   "execution_count": 1,
   "metadata": {
    "colab": {
     "base_uri": "https://localhost:8080/"
    },
    "id": "WxtdFtjHWxjV",
    "outputId": "ef0a56f4-86a8-44ab-dd93-09f3f584a1c4"
   },
   "outputs": [
    {
     "name": "stderr",
     "output_type": "stream",
     "text": [
      "C:\\Users\\Sanskar\\AppData\\Local\\Programs\\Python\\Python312\\Lib\\site-packages\\sklearn\\neural_network\\_multilayer_perceptron.py:690: ConvergenceWarning: Stochastic Optimizer: Maximum iterations (1000) reached and the optimization hasn't converged yet.\n",
      "  warnings.warn(\n"
     ]
    },
    {
     "name": "stdout",
     "output_type": "stream",
     "text": [
      "\n",
      "Enter your 5x3 matrix row by row (e.g., 101 or 0 1 1):\n"
     ]
    },
    {
     "name": "stdin",
     "output_type": "stream",
     "text": [
      "Row 1:  1 1 1\n",
      "Row 2:  001\n",
      "Row 3:  011\n",
      "Row 4:  001\n",
      "Row 5:  111\n"
     ]
    },
    {
     "name": "stdout",
     "output_type": "stream",
     "text": [
      "\n",
      "You entered this matrix:\n",
      "1 1 1\n",
      "0 0 1\n",
      "0 1 1\n",
      "0 0 1\n",
      "1 1 1\n",
      "\n",
      " Predicted digit is: 3\n"
     ]
    }
   ],
   "source": [
    "import numpy as np\n",
    "from sklearn.neural_network import MLPClassifier\n",
    "digits = {\n",
    "    0: [[1,1,1],[1,0,1],[1,0,1],[1,0,1],[1,1,1]],\n",
    "    1: [[0,1,0],[1,1,0],[0,1,0],[0,1,0],[1,1,1]],\n",
    "    2: [[1,1,1],[0,0,1],[1,1,1],[1,0,0],[1,1,1]],\n",
    "    3: [[1,1,1],[0,0,1],[0,1,1],[0,0,1],[1,1,1]],\n",
    "    4: [[1,0,1],[1,0,1],[1,1,1],[0,0,1],[0,0,1]],\n",
    "    5: [[1,1,1],[1,0,0],[1,1,1],[0,0,1],[1,1,1]],\n",
    "    6: [[1,1,1],[1,0,0],[1,1,1],[1,0,1],[1,1,1]],\n",
    "    7: [[1,1,1],[0,0,1],[0,1,0],[0,1,0],[0,1,0]],\n",
    "    8: [[1,1,1],[1,0,1],[1,1,1],[1,0,1],[1,1,1]],\n",
    "    9: [[1,1,1],[1,0,1],[1,1,1],[0,0,1],[1,1,1]]\n",
    "}\n",
    "X = [np.array(v).flatten() for v in digits.values()]\n",
    "y = list(digits.keys())\n",
    "model = MLPClassifier(hidden_layer_sizes=(10,), max_iter=1000, random_state=42)\n",
    "model.fit(X, y)\n",
    "\n",
    "def get_user_matrix():\n",
    "    print(\"\\nEnter your 5x3 matrix row by row (e.g., 101 or 0 1 1):\")\n",
    "    matrix = []\n",
    "    for i in range(5):\n",
    "        while True:\n",
    "            row = input(f\"Row {i+1}: \").strip().replace(' ', '')\n",
    "            if len(row) == 3 and all(c in '01' for c in row):\n",
    "                matrix.append([int(c) for c in row])\n",
    "                break\n",
    "            else:\n",
    "                print(\"Invalid row. Enter exactly 3 binary digits (0 or 1).\")\n",
    "    return matrix\n",
    "\n",
    "user_matrix = get_user_matrix()\n",
    "print(\"\\nYou entered this matrix:\")\n",
    "for row in user_matrix:\n",
    "    print(\" \".join(str(val) for val in row))\n",
    "\n",
    "prediction = model.predict([np.array(user_matrix).flatten()])\n",
    "print(\"\\n Predicted digit is:\", prediction[0])"
   ]
  },
  {
   "cell_type": "code",
   "execution_count": null,
   "metadata": {},
   "outputs": [],
   "source": []
  }
 ],
 "metadata": {
  "colab": {
   "provenance": []
  },
  "kernelspec": {
   "display_name": "Python 3 (ipykernel)",
   "language": "python",
   "name": "python3"
  },
  "language_info": {
   "codemirror_mode": {
    "name": "ipython",
    "version": 3
   },
   "file_extension": ".py",
   "mimetype": "text/x-python",
   "name": "python",
   "nbconvert_exporter": "python",
   "pygments_lexer": "ipython3",
   "version": "3.12.2"
  }
 },
 "nbformat": 4,
 "nbformat_minor": 4
}
