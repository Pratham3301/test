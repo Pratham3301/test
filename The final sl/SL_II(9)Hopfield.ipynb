{
 "cells": [
  {
   "cell_type": "code",
   "execution_count": 1,
   "id": "476b28f4-885b-4b35-aee6-6b7d062c52e2",
   "metadata": {
    "colab": {
     "base_uri": "https://localhost:8080/"
    },
    "id": "476b28f4-885b-4b35-aee6-6b7d062c52e2",
    "outputId": "d34bdd72-1788-44aa-d913-fc7dd2abf175"
   },
   "outputs": [
    {
     "name": "stdout",
     "output_type": "stream",
     "text": [
      "Recall of original patterns:\n",
      " Input: [1, -1, 1, -1] → Output: [1.0, -1.0, 1.0, -1.0]\n",
      " Input: [-1, 1, -1, 1] → Output: [-1.0, 1.0, -1.0, 1.0]\n",
      " Input: [1, 1, -1, -1] → Output: [1.0, 1.0, -1.0, -1.0]\n",
      " Input: [-1, -1, 1, 1] → Output: [-1.0, -1.0, 1.0, 1.0]\n",
      "\n",
      "Recall of noisy patterns:\n",
      " Noisy: [1, -1, -1, -1] → Recalled: [1.0, 1.0, 1.0, -1.0]\n",
      " Noisy: [-1, 1, 1, 1] → Recalled: [-1.0, -1.0, -1.0, 1.0]\n"
     ]
    }
   ],
   "source": [
    "import numpy as np\n",
    "\n",
    "# ——— Hopfield Network implementation ————————————————————————————————————————\n",
    "class HopfieldNetwork:\n",
    "    def __init__(self, size):\n",
    "        \"\"\"\n",
    "        size : int\n",
    "            Dimensionality of each pattern (number of neurons).\n",
    "        \"\"\"\n",
    "        self.size = size\n",
    "        self.weights = np.zeros((size, size))\n",
    "\n",
    "    def train(self, patterns):\n",
    "        \"\"\"\n",
    "        Train the network using Hebbian learning (outer product rule).\n",
    "        patterns : array-like, shape = (n_patterns, size)\n",
    "        \"\"\"\n",
    "        for p in patterns:\n",
    "            # ensure bipolar {-1, +1}\n",
    "            p = p.reshape(-1, 1)\n",
    "            self.weights += p @ p.T\n",
    "        # Remove self-connections\n",
    "        np.fill_diagonal(self.weights, 0)\n",
    "\n",
    "    def recall(self, pattern, steps=5):\n",
    "        \"\"\"\n",
    "        Iteratively update all neurons synchronously.\n",
    "        pattern : array-like, shape = (size,)\n",
    "        steps   : number of update iterations\n",
    "        \"\"\"\n",
    "        s = pattern.copy()\n",
    "        for _ in range(steps):\n",
    "            s = np.sign(self.weights @ s)\n",
    "        return s\n",
    "\n",
    "# ——— Define and store four bipolar patterns ————————————————————————————————\n",
    "stored_patterns = np.array([\n",
    "    [ 1, -1,  1, -1],\n",
    "    [-1,  1, -1,  1],\n",
    "    [ 1,  1, -1, -1],\n",
    "    [-1, -1,  1,  1],\n",
    "])\n",
    "\n",
    "# ——— Initialize and train the network —————————————————————————————————————\n",
    "hopnet = HopfieldNetwork(size=4)\n",
    "hopnet.train(stored_patterns)\n",
    "\n",
    "# ——— Test recall on stored patterns —————————————————————————————————————\n",
    "print(\"Recall of original patterns:\")\n",
    "for p in stored_patterns:\n",
    "    out = hopnet.recall(p)\n",
    "    print(f\" Input: {p.tolist()} → Output: {out.tolist()}\")\n",
    "\n",
    "# ——— Test recall on noisy variants ——————————————————————————————————————\n",
    "print(\"\\nRecall of noisy patterns:\")\n",
    "noisy_variants = np.array([\n",
    "    [ 1, -1, -1, -1],  # flip one bit of pattern 0\n",
    "    [-1,  1,  1,  1],  # flip three bits of pattern 1\n",
    "])\n",
    "for nv in noisy_variants:\n",
    "    out = hopnet.recall(nv)\n",
    "    print(f\" Noisy: {nv.tolist()} → Recalled: {out.tolist()}\")\n"
   ]
  }
 ],
 "metadata": {
  "colab": {
   "provenance": []
  },
  "kernelspec": {
   "display_name": "Python 3 (ipykernel)",
   "language": "python",
   "name": "python3"
  },
  "language_info": {
   "codemirror_mode": {
    "name": "ipython",
    "version": 3
   },
   "file_extension": ".py",
   "mimetype": "text/x-python",
   "name": "python",
   "nbconvert_exporter": "python",
   "pygments_lexer": "ipython3",
   "version": "3.12.2"
  }
 },
 "nbformat": 4,
 "nbformat_minor": 5
}
