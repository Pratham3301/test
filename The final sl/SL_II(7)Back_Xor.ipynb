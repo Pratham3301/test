{
 "cells": [
  {
   "cell_type": "code",
   "execution_count": null,
   "metadata": {
    "colab": {
     "base_uri": "https://localhost:8080/"
    },
    "id": "jbOFxzo8yyUS",
    "outputId": "282b0ff2-896e-4a91-e410-a52d90b844a4"
   },
   "outputs": [
    {
     "name": "stdout",
     "output_type": "stream",
     "text": [
      "Epoch 0, Loss: 0.2545\n",
      "Epoch 1000, Loss: 0.2500\n",
      "Epoch 2000, Loss: 0.2493\n",
      "Epoch 3000, Loss: 0.2422\n",
      "Epoch 4000, Loss: 0.1739\n",
      "Epoch 5000, Loss: 0.0480\n",
      "Epoch 6000, Loss: 0.0165\n",
      "Epoch 7000, Loss: 0.0089\n",
      "Epoch 8000, Loss: 0.0059\n",
      "Epoch 9000, Loss: 0.0043\n",
      "\n",
      "Final predictions after training:\n",
      "Input: [0 0], Predicted: 0, True: 0\n",
      "Input: [0 1], Predicted: 1, True: 1\n",
      "Input: [1 0], Predicted: 1, True: 1\n",
      "Input: [1 1], Predicted: 0, True: 0\n"
     ]
    }
   ],
   "source": [
    "import numpy as np\n",
    "\n",
    "# Activation function: Sigmoid and its derivative\n",
    "def sigmoid(x):\n",
    "    return 1 / (1 + np.exp(-x))\n",
    "\n",
    "def sigmoid_derivative(s):\n",
    "    # s is the output from the sigmoid function\n",
    "    return s * (1 - s)\n",
    "\n",
    "# XOR dataset: 2 input neurons, 1 output neuron\n",
    "X = np.array([\n",
    "    [0, 0],\n",
    "    [0, 1],\n",
    "    [1, 0],\n",
    "    [1, 1]\n",
    "])\n",
    "\n",
    "y = np.array([[0],\n",
    "              [1],\n",
    "              [1],\n",
    "              [0]])\n",
    "\n",
    "# Network parameters\n",
    "input_dim = 2       # number of input neurons\n",
    "hidden_dim = 2      # number of hidden neurons (minimum 2 for XOR)\n",
    "output_dim = 1      # number of output neurons\n",
    "learning_rate = 0.1\n",
    "epochs = 10000      # number of training iterations\n",
    "\n",
    "# Initialize weights and biases with small random numbers\n",
    "np.random.seed(42)\n",
    "W1 = np.random.uniform(-1, 1, (input_dim, hidden_dim))\n",
    "b1 = np.random.uniform(-1, 1, (1, hidden_dim))\n",
    "W2 = np.random.uniform(-1, 1, (hidden_dim, output_dim))\n",
    "b2 = np.random.uniform(-1, 1, (1, output_dim))\n",
    "\n",
    "# Training loop\n",
    "for epoch in range(epochs):\n",
    "    # Forward pass\n",
    "    # Hidden layer\n",
    "    hidden_input = np.dot(X, W1) + b1        # Linear combination at hidden layer\n",
    "    hidden_output = sigmoid(hidden_input)      # Activation at hidden layer\n",
    "\n",
    "    # Output layer\n",
    "    final_input = np.dot(hidden_output, W2) + b2  # Linear combination at output layer\n",
    "    final_output = sigmoid(final_input)           # Activation at output layer\n",
    "\n",
    "    # Compute error at output layer (difference between target and actual output)\n",
    "    error = y - final_output\n",
    "\n",
    "    # Backpropagation\n",
    "    # Compute delta for output layer\n",
    "    delta_output = error * sigmoid_derivative(final_output)\n",
    "\n",
    "    # Compute error propagated back to hidden layer\n",
    "    error_hidden = delta_output.dot(W2.T)\n",
    "    delta_hidden = error_hidden * sigmoid_derivative(hidden_output)\n",
    "\n",
    "    # Update weights and biases\n",
    "    W2 += learning_rate * hidden_output.T.dot(delta_output)\n",
    "    b2 += learning_rate * np.sum(delta_output, axis=0, keepdims=True)\n",
    "    W1 += learning_rate * X.T.dot(delta_hidden)\n",
    "    b1 += learning_rate * np.sum(delta_hidden, axis=0, keepdims=True)\n",
    "\n",
    "    # Optionally print loss every 1000 epochs for monitoring\n",
    "    if epoch % 1000 == 0:\n",
    "        loss = np.mean(np.square(error))\n",
    "        print(f\"Epoch {epoch}, Loss: {loss:.4f}\")\n",
    "\n",
    "# Final predictions\n",
    "print(\"\\nFinal predictions after training:\")\n",
    "final_hidden = sigmoid(np.dot(X, W1) + b1)\n",
    "final_pred = sigmoid(np.dot(final_hidden, W2) + b2)\n",
    "for i in range(len(X)):\n",
    "    # Convert prediction to binary (threshold 0.5)\n",
    "    predicted = 1 if final_pred[i, 0] >= 0.5 else 0\n",
    "    print(f\"Input: {X[i]}, Predicted: {predicted}, True: {y[i,0]}\")\n"
   ]
  }
 ],
 "metadata": {
  "colab": {
   "provenance": []
  },
  "kernelspec": {
   "display_name": "Python 3 (ipykernel)",
   "language": "python",
   "name": "python3"
  },
  "language_info": {
   "codemirror_mode": {
    "name": "ipython",
    "version": 3
   },
   "file_extension": ".py",
   "mimetype": "text/x-python",
   "name": "python",
   "nbconvert_exporter": "python",
   "pygments_lexer": "ipython3",
   "version": "3.12.2"
  }
 },
 "nbformat": 4,
 "nbformat_minor": 4
}
