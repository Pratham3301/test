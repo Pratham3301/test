{
 "cells": [
  {
   "cell_type": "markdown",
   "metadata": {
    "id": "TzOorkuSh86l"
   },
   "source": [
    "**Python Program using Perceptron Neural Network to recognize even and\n",
    "odd numbers. Given numbers are in ASCII form, Range[0, 9]**"
   ]
  },
  {
   "cell_type": "code",
   "execution_count": 1,
   "metadata": {
    "colab": {
     "base_uri": "https://localhost:8080/"
    },
    "id": "2KqrIaoZh59t",
    "outputId": "f854826f-0d1e-41cd-b9e7-542d359902e7"
   },
   "outputs": [
    {
     "name": "stdout",
     "output_type": "stream",
     "text": [
      "Enter an ASCII value (48-57): 52\n",
      "ASCII 52 -> Digit 4 is Even\n"
     ]
    }
   ],
   "source": [
    "import numpy as np\n",
    "\n",
    "# Step Activation Function\n",
    "def step_function(x):\n",
    "    return 1 if x >= 0 else 0\n",
    "\n",
    "# Training Data: ASCII representation of digits (48 = '0', 57 = '9')\n",
    "training_data = [\n",
    "    {'input': [0, 0, 0, 0, 0, 0], 'label': 0},  # '0' (ASCII 48) - Even\n",
    "    {'input': [0, 0, 0, 0, 0, 1], 'label': 1},  # '1' (ASCII 49) - Odd\n",
    "    {'input': [0, 0, 0, 0, 1, 0], 'label': 0},  # '2' (ASCII 50) - Even\n",
    "    {'input': [0, 0, 0, 0, 1, 1], 'label': 1},  # '3' (ASCII 51) - Odd\n",
    "    {'input': [0, 0, 0, 1, 0, 0], 'label': 0},  # '4' (ASCII 52) - Even\n",
    "    {'input': [0, 0, 0, 1, 0, 1], 'label': 1},  # '5' (ASCII 53) - Odd\n",
    "    {'input': [0, 0, 0, 1, 1, 0], 'label': 0},  # '6' (ASCII 54) - Even\n",
    "    {'input': [0, 0, 0, 1, 1, 1], 'label': 1},  # '7' (ASCII 55) - Odd\n",
    "    {'input': [0, 0, 1, 0, 0, 0], 'label': 0},  # '8' (ASCII 56) - Even\n",
    "    {'input': [0, 0, 1, 0, 0, 1], 'label': 1},  # '9' (ASCII 57) - Odd\n",
    "]\n",
    "\n",
    "# Initialize Weights & Bias\n",
    "weights = np.random.rand(6)  # Random initial weights\n",
    "bias = np.random.rand()      # Random bias\n",
    "learning_rate = 0.1          # Learning rate\n",
    "\n",
    "# Training Loop\n",
    "for epoch in range(10):  # Train for 10 epochs\n",
    "    for data in training_data:\n",
    "        x = np.array(data['input'])\n",
    "        y_true = data['label']\n",
    "\n",
    "        # Compute output\n",
    "        y_pred = step_function(np.dot(x, weights) + bias)\n",
    "\n",
    "        # Compute error\n",
    "        error = y_true - y_pred\n",
    "\n",
    "        # Update weights and bias using Perceptron Rule\n",
    "        weights += learning_rate * error * x\n",
    "        bias += learning_rate * error\n",
    "\n",
    "# **Testing the Model**\n",
    "ascii_input = int(input(\"Enter an ASCII value (48-57): \"))\n",
    "\n",
    "# Convert ASCII to actual digit (0-9)\n",
    "digit = ascii_input - 48\n",
    "\n",
    "# Convert digit to 6-bit binary\n",
    "binary_input = [int(x) for x in '{0:06b}'.format(digit)]\n",
    "\n",
    "# Predict Even/Odd\n",
    "prediction = step_function(np.dot(binary_input, weights) + bias)\n",
    "output = \"Even\" if prediction == 0 else \"Odd\"\n",
    "\n",
    "# Print Result\n",
    "print(f\"ASCII {ascii_input} -> Digit {digit} is {output}\")\n"
   ]
  }
 ],
 "metadata": {
  "colab": {
   "provenance": []
  },
  "kernelspec": {
   "display_name": "Python 3 (ipykernel)",
   "language": "python",
   "name": "python3"
  },
  "language_info": {
   "codemirror_mode": {
    "name": "ipython",
    "version": 3
   },
   "file_extension": ".py",
   "mimetype": "text/x-python",
   "name": "python",
   "nbconvert_exporter": "python",
   "pygments_lexer": "ipython3",
   "version": "3.12.2"
  }
 },
 "nbformat": 4,
 "nbformat_minor": 4
}
