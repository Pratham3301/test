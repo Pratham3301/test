{
 "cells": [
  {
   "cell_type": "code",
   "execution_count": 2,
   "metadata": {
    "colab": {
     "base_uri": "https://localhost:8080/"
    },
    "id": "s3sHZkhXaqdp",
    "outputId": "1d1ad392-db24-4cfd-a0d3-3f390214dbf0"
   },
   "outputs": [
    {
     "name": "stdout",
     "output_type": "stream",
     "text": [
      "Epoch 0, Loss: 0.5012495691702666\n",
      "Epoch 1000, Loss: 0.07892380962319563\n",
      "Epoch 2000, Loss: 0.04200729440540749\n",
      "Epoch 3000, Loss: 0.03137807616202634\n",
      "Epoch 4000, Loss: 0.025949337857365067\n",
      "Epoch 5000, Loss: 0.02254409645691593\n",
      "Epoch 6000, Loss: 0.020163626571278292\n",
      "Epoch 7000, Loss: 0.01838364481836235\n",
      "Epoch 8000, Loss: 0.0169900605067304\n",
      "Epoch 9000, Loss: 0.015861924358941435\n",
      "Final Output after Training:\n",
      "[[0.01572886]\n",
      " [0.98627449]\n",
      " [0.98425486]\n",
      " [0.01450469]]\n",
      "\n",
      "Model Accuracy: 100.00%\n"
     ]
    }
   ],
   "source": [
    "import numpy as np\n",
    "from sklearn.metrics import accuracy_score\n",
    "\n",
    "# Activation function (Sigmoid) and its derivative\n",
    "def sigmoid(x):\n",
    "    return 1 / (1 + np.exp(-x))\n",
    "\n",
    "def sigmoid_derivative(x):\n",
    "    return x * (1 - x)\n",
    "\n",
    "# Initialize dataset (X: input, y: output)\n",
    "X = np.array([[0, 0], [0, 1], [1, 0], [1, 1]])  # XOR input\n",
    "y = np.array([[0], [1], [1], [0]])  # XOR output\n",
    "\n",
    "# Set network parameters\n",
    "input_neurons = 2\n",
    "hidden_neurons = 4  # Hidden layer neurons\n",
    "output_neurons = 1\n",
    "learning_rate = 0.5\n",
    "\n",
    "# Initialize weights and biases\n",
    "np.random.seed(42)\n",
    "weights_input_hidden = np.random.uniform(-1, 1, (input_neurons, hidden_neurons))\n",
    "weights_hidden_output = np.random.uniform(-1, 1, (hidden_neurons, output_neurons))\n",
    "bias_hidden = np.random.uniform(-1, 1, (1, hidden_neurons))\n",
    "bias_output = np.random.uniform(-1, 1, (1, output_neurons))\n",
    "\n",
    "# Training process\n",
    "epochs = 10000\n",
    "for epoch in range(epochs):\n",
    "    # Forward Propagation\n",
    "    hidden_layer_input = np.dot(X, weights_input_hidden) + bias_hidden\n",
    "    hidden_layer_output = sigmoid(hidden_layer_input)\n",
    "\n",
    "    output_layer_input = np.dot(hidden_layer_output, weights_hidden_output) + bias_output\n",
    "    output = sigmoid(output_layer_input)\n",
    "\n",
    "    # Compute error\n",
    "    error = y - output\n",
    "\n",
    "    # Back Propagation\n",
    "    output_gradient = error * sigmoid_derivative(output)\n",
    "    hidden_gradient = output_gradient.dot(weights_hidden_output.T) * sigmoid_derivative(hidden_layer_output)\n",
    "\n",
    "    # Update weights and biases\n",
    "    weights_hidden_output += hidden_layer_output.T.dot(output_gradient) * learning_rate\n",
    "    weights_input_hidden += X.T.dot(hidden_gradient) * learning_rate\n",
    "    bias_output += np.sum(output_gradient, axis=0, keepdims=True) * learning_rate\n",
    "    bias_hidden += np.sum(hidden_gradient, axis=0, keepdims=True) * learning_rate\n",
    "\n",
    "    # Print loss every 1000 epochs\n",
    "    if epoch % 1000 == 0:\n",
    "        loss = np.mean(np.abs(error))\n",
    "        print(f\"Epoch {epoch}, Loss: {loss}\")\n",
    "\n",
    "# Final Output\n",
    "print(\"Final Output after Training:\")\n",
    "print(output)\n",
    "\n",
    "# Convert predictions to binary using threshold 0.5\n",
    "y_pred_classes = (output > 0.5).astype(int)\n",
    "\n",
    "# Calculate Accuracy\n",
    "accuracy = accuracy_score(y, y_pred_classes)\n",
    "print(f\"\\nModel Accuracy: {accuracy * 100:.2f}%\")"
   ]
  }
 ],
 "metadata": {
  "colab": {
   "provenance": []
  },
  "kernelspec": {
   "display_name": "Python 3 (ipykernel)",
   "language": "python",
   "name": "python3"
  },
  "language_info": {
   "codemirror_mode": {
    "name": "ipython",
    "version": 3
   },
   "file_extension": ".py",
   "mimetype": "text/x-python",
   "name": "python",
   "nbconvert_exporter": "python",
   "pygments_lexer": "ipython3",
   "version": "3.12.2"
  }
 },
 "nbformat": 4,
 "nbformat_minor": 4
}
